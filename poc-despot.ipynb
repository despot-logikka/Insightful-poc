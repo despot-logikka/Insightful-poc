{
 "cells": [
  {
   "cell_type": "markdown",
   "metadata": {},
   "source": [
    "### Basic approach - up to 10k elements"
   ]
  },
  {
   "cell_type": "code",
   "execution_count": null,
   "metadata": {},
   "outputs": [],
   "source": [
    "from elasticsearch import Elasticsearch\n",
    "\n",
    "# Connect to the Elasticsearch cluster\n",
    "client = Elasticsearch(\n",
    "    \"http://192.168.5.188:9200/\", \n",
    "    basic_auth=(\"despot.markovic\", \"KJmhyg7cPxfVG84UTuE\")\n",
    ")\n",
    "\n",
    "# Perform a search query on the specified index (insightful-fragments-v6)\n",
    "response = client.search(\n",
    "    index=\"insightful-fragments-v6\",\n",
    "    size=10000,\n",
    "    query={\"match_all\": {}}\n",
    ")\n",
    "\n",
    "# Access and print the retrieved documents\n",
    "for doc in response['hits']['hits']:\n",
    "    print(doc['_source'])"
   ]
  },
  {
   "cell_type": "markdown",
   "metadata": {},
   "source": [
    "### Scrolling approach - All data pulling"
   ]
  },
  {
   "cell_type": "code",
   "execution_count": null,
   "metadata": {},
   "outputs": [],
   "source": [
    "from elasticsearch import Elasticsearch\n",
    "import time\n",
    "\n",
    "# Connect to the Elasticsearch cluster\n",
    "client = Elasticsearch(\n",
    "    \"http://192.168.5.188:9200/\", \n",
    "    basic_auth=(\"despot.markovic\", \"KJmhyg7cPxfVG84UTuE\")\n",
    ")\n",
    "\n",
    "# To store the pulled data\n",
    "all_documents = []\n",
    "\n",
    "# Start the initial search request with scroll\n",
    "scroll_size = 10000\n",
    "scroll_time = '2m'\n",
    "iteration = 0\n",
    "total_docs = 0\n",
    "batch_size = 20\n",
    "\n",
    "start_time = time.time()\n",
    "\n",
    "# Initial search query with scroll\n",
    "response = client.search(\n",
    "    index=\"insightful-fragments-v6\",\n",
    "    size=scroll_size,\n",
    "    scroll=scroll_time,\n",
    "    query={\"match_all\": {}}\n",
    ")\n",
    "\n",
    "# Extract the first scroll ID and documents\n",
    "scroll_id = response['_scroll_id']\n",
    "hits = response['hits']['hits']\n",
    "total_docs += len(hits)\n",
    "\n",
    "# Add the first batch of documents to the list\n",
    "all_documents.extend([doc['_source'] for doc in hits])\n",
    "\n",
    "# Continue scrolling to pull all data\n",
    "while len(hits) > 0:\n",
    "    iteration += 1\n",
    "    # Fetch the next batch of results using the scroll ID\n",
    "    response = client.scroll(scroll_id=scroll_id, scroll=scroll_time)\n",
    "    \n",
    "    # Update scroll ID and retrieve the next batch of hits\n",
    "    scroll_id = response['_scroll_id']\n",
    "    hits = response['hits']['hits']\n",
    "    total_docs += len(hits)\n",
    "    \n",
    "    # Add the new batch of documents to the list\n",
    "    all_documents.extend([doc['_source'] for doc in hits])\n",
    "    \n",
    "    # Print progress every 20 iterations\n",
    "    if iteration % batch_size == 0:\n",
    "        time_spent = time.time() - start_time\n",
    "        print(f\"Iteration: {iteration}, Total documents pulled: {total_docs}\")\n",
    "        print(f\"Time spent for last 20 iterations: {time_spent:.2f} seconds\")\n",
    "        # Reset the timer after each 20 iterations\n",
    "        start_time = time.time()\n",
    "\n",
    "# Once all data is retrieved, clear the scroll context\n",
    "client.clear_scroll(scroll_id=scroll_id)\n",
    "\n",
    "print(f\"All documents pulled. Total: {total_docs}\")\n"
   ]
  },
  {
   "cell_type": "code",
   "execution_count": null,
   "metadata": {},
   "outputs": [],
   "source": []
  }
 ],
 "metadata": {
  "kernelspec": {
   "display_name": "dev_env",
   "language": "python",
   "name": "python3"
  },
  "language_info": {
   "codemirror_mode": {
    "name": "ipython",
    "version": 3
   },
   "file_extension": ".py",
   "mimetype": "text/x-python",
   "name": "python",
   "nbconvert_exporter": "python",
   "pygments_lexer": "ipython3",
   "version": "3.10.15"
  }
 },
 "nbformat": 4,
 "nbformat_minor": 2
}
